{
 "cells": [
  {
   "cell_type": "markdown",
   "metadata": {},
   "source": [
    "## Process of conversion from MQL to SQL"
   ]
  },
  {
   "cell_type": "code",
   "execution_count": 1,
   "metadata": {},
   "outputs": [],
   "source": [
    "import matplotlib.pyplot as plt\n",
    "import numpy as np\n",
    "from sklearn.linear_model import LogisticRegression ## for performing the logistic Regression\n",
    "from sklearn.metrics import accuracy_score ## to obtain the accuracy score\n",
    "import pandas as pd\n",
    "import seaborn as sns\n",
    "import matplotlib.pyplot as plt\n",
    "%matplotlib inline"
   ]
  },
  {
   "cell_type": "code",
   "execution_count": 2,
   "metadata": {},
   "outputs": [
    {
     "data": {
      "text/plain": [
       "'C:\\\\Users\\\\Abhi'"
      ]
     },
     "execution_count": 2,
     "metadata": {},
     "output_type": "execute_result"
    }
   ],
   "source": [
    "%pwd"
   ]
  },
  {
   "cell_type": "code",
   "execution_count": 6,
   "metadata": {},
   "outputs": [
    {
     "name": "stdout",
     "output_type": "stream",
     "text": [
      "C:\\Users\\Abhi\\Downloads\n"
     ]
    }
   ],
   "source": [
    "%cd C:\\\\Users\\\\Abhi\\\\Downloads"
   ]
  },
  {
   "cell_type": "code",
   "execution_count": 7,
   "metadata": {},
   "outputs": [],
   "source": [
    "market= pd.read_csv(\"olist_marketing_qualified_leads_dataset.csv\")"
   ]
  },
  {
   "cell_type": "code",
   "execution_count": 8,
   "metadata": {},
   "outputs": [
    {
     "data": {
      "text/html": [
       "<div>\n",
       "<style scoped>\n",
       "    .dataframe tbody tr th:only-of-type {\n",
       "        vertical-align: middle;\n",
       "    }\n",
       "\n",
       "    .dataframe tbody tr th {\n",
       "        vertical-align: top;\n",
       "    }\n",
       "\n",
       "    .dataframe thead th {\n",
       "        text-align: right;\n",
       "    }\n",
       "</style>\n",
       "<table border=\"1\" class=\"dataframe\">\n",
       "  <thead>\n",
       "    <tr style=\"text-align: right;\">\n",
       "      <th></th>\n",
       "      <th>mql_id</th>\n",
       "      <th>first_contact_date</th>\n",
       "      <th>landing_page_id</th>\n",
       "      <th>origin</th>\n",
       "    </tr>\n",
       "  </thead>\n",
       "  <tbody>\n",
       "    <tr>\n",
       "      <th>0</th>\n",
       "      <td>dac32acd4db4c29c230538b72f8dd87d</td>\n",
       "      <td>2018-02-01</td>\n",
       "      <td>88740e65d5d6b056e0cda098e1ea6313</td>\n",
       "      <td>social</td>\n",
       "    </tr>\n",
       "    <tr>\n",
       "      <th>1</th>\n",
       "      <td>8c18d1de7f67e60dbd64e3c07d7e9d5d</td>\n",
       "      <td>2017-10-20</td>\n",
       "      <td>007f9098284a86ee80ddeb25d53e0af8</td>\n",
       "      <td>paid_search</td>\n",
       "    </tr>\n",
       "    <tr>\n",
       "      <th>2</th>\n",
       "      <td>b4bc852d233dfefc5131f593b538befa</td>\n",
       "      <td>2018-03-22</td>\n",
       "      <td>a7982125ff7aa3b2054c6e44f9d28522</td>\n",
       "      <td>organic_search</td>\n",
       "    </tr>\n",
       "    <tr>\n",
       "      <th>3</th>\n",
       "      <td>6be030b81c75970747525b843c1ef4f8</td>\n",
       "      <td>2018-01-22</td>\n",
       "      <td>d45d558f0daeecf3cccdffe3c59684aa</td>\n",
       "      <td>email</td>\n",
       "    </tr>\n",
       "    <tr>\n",
       "      <th>4</th>\n",
       "      <td>5420aad7fec3549a85876ba1c529bd84</td>\n",
       "      <td>2018-02-21</td>\n",
       "      <td>b48ec5f3b04e9068441002a19df93c6c</td>\n",
       "      <td>organic_search</td>\n",
       "    </tr>\n",
       "  </tbody>\n",
       "</table>\n",
       "</div>"
      ],
      "text/plain": [
       "                             mql_id first_contact_date  \\\n",
       "0  dac32acd4db4c29c230538b72f8dd87d         2018-02-01   \n",
       "1  8c18d1de7f67e60dbd64e3c07d7e9d5d         2017-10-20   \n",
       "2  b4bc852d233dfefc5131f593b538befa         2018-03-22   \n",
       "3  6be030b81c75970747525b843c1ef4f8         2018-01-22   \n",
       "4  5420aad7fec3549a85876ba1c529bd84         2018-02-21   \n",
       "\n",
       "                    landing_page_id          origin  \n",
       "0  88740e65d5d6b056e0cda098e1ea6313          social  \n",
       "1  007f9098284a86ee80ddeb25d53e0af8     paid_search  \n",
       "2  a7982125ff7aa3b2054c6e44f9d28522  organic_search  \n",
       "3  d45d558f0daeecf3cccdffe3c59684aa           email  \n",
       "4  b48ec5f3b04e9068441002a19df93c6c  organic_search  "
      ]
     },
     "execution_count": 8,
     "metadata": {},
     "output_type": "execute_result"
    }
   ],
   "source": [
    "market.head()"
   ]
  },
  {
   "cell_type": "code",
   "execution_count": 9,
   "metadata": {},
   "outputs": [
    {
     "name": "stdout",
     "output_type": "stream",
     "text": [
      "<class 'pandas.core.frame.DataFrame'>\n",
      "RangeIndex: 8000 entries, 0 to 7999\n",
      "Data columns (total 4 columns):\n",
      "mql_id                8000 non-null object\n",
      "first_contact_date    8000 non-null object\n",
      "landing_page_id       8000 non-null object\n",
      "origin                7940 non-null object\n",
      "dtypes: object(4)\n",
      "memory usage: 250.1+ KB\n"
     ]
    }
   ],
   "source": [
    "market.info()"
   ]
  },
  {
   "cell_type": "markdown",
   "metadata": {},
   "source": [
    "According to this data set, they generated 8000 market qualified leads through different mediums.They used different platforms like online, offline etc"
   ]
  },
  {
   "cell_type": "code",
   "execution_count": 11,
   "metadata": {},
   "outputs": [
    {
     "data": {
      "text/plain": [
       "organic_search       2296\n",
       "paid_search          1586\n",
       "social               1350\n",
       "unknown              1099\n",
       "direct_traffic        499\n",
       "email                 493\n",
       "referral              284\n",
       "other                 150\n",
       "display               118\n",
       "other_publicities      65\n",
       "Name: origin, dtype: int64"
      ]
     },
     "execution_count": 11,
     "metadata": {},
     "output_type": "execute_result"
    }
   ],
   "source": [
    "value_counts=market['origin'].value_counts()"
   ]
  },
  {
   "cell_type": "code",
   "execution_count": 12,
   "metadata": {},
   "outputs": [
    {
     "data": {
      "text/plain": [
       "<matplotlib.axes._subplots.AxesSubplot at 0x1e1cb228ac8>"
      ]
     },
     "execution_count": 12,
     "metadata": {},
     "output_type": "execute_result"
    },
    {
     "data": {
      "image/png": "[encoded data removed]",
      "text/plain": [
       "<Figure size 432x288 with 1 Axes>"
      ]
     },
     "metadata": {
      "needs_background": "light"
     },
     "output_type": "display_data"
    }
   ],
   "source": [
    "sns.countplot(x='origin',data=market)"
   ]
  },
  {
   "cell_type": "markdown",
   "metadata": {},
   "source": [
    "From the above data we are able to find that most of the customers are coming throung organic search. Which means company had more \n",
    "exposure on the digital platform. As organic search is 44%more than paid search.\n",
    "\n",
    "So the company which is spending on paid serach giving good retrun over it.Which leads direct search, referral, email etc. \n",
    "\n",
    "Through this there are able to 8000 customers.\n",
    "\n",
    "In the market funnel they are under the category of market qualified lead\n",
    "\n"
   ]
  },
  {
   "cell_type": "markdown",
   "metadata": {},
   "source": [
    "## Now going towards SQL\n",
    "\n",
    "From 2017 to 2018 how many MQL converted into SQL"
   ]
  },
  {
   "cell_type": "code",
   "execution_count": 15,
   "metadata": {},
   "outputs": [
    {
     "data": {
      "text/plain": [
       "'C:\\\\Users\\\\Abhi\\\\Downloads'"
      ]
     },
     "execution_count": 15,
     "metadata": {},
     "output_type": "execute_result"
    }
   ],
   "source": [
    "%pwd\n"
   ]
  },
  {
   "cell_type": "code",
   "execution_count": 16,
   "metadata": {},
   "outputs": [
    {
     "name": "stdout",
     "output_type": "stream",
     "text": [
      "C:\\Users\\Abhi\\Desktop\n"
     ]
    }
   ],
   "source": [
    "%cd C:\\\\Users\\\\Abhi\\\\Desktop"
   ]
  },
  {
   "cell_type": "code",
   "execution_count": 19,
   "metadata": {},
   "outputs": [],
   "source": [
    "market2= pd.read_csv(\"closed_deal.csv\")\n",
    "pd.options.display.max_columns = None\n",
    "pd.options.display.max_rows = None\n",
    "\n",
    "pd.options.display.max_colwidth=-1"
   ]
  },
  {
   "cell_type": "code",
   "execution_count": 20,
   "metadata": {},
   "outputs": [
    {
     "data": {
      "text/html": [
       "<div>\n",
       "<style scoped>\n",
       "    .dataframe tbody tr th:only-of-type {\n",
       "        vertical-align: middle;\n",
       "    }\n",
       "\n",
       "    .dataframe tbody tr th {\n",
       "        vertical-align: top;\n",
       "    }\n",
       "\n",
       "    .dataframe thead th {\n",
       "        text-align: right;\n",
       "    }\n",
       "</style>\n",
       "<table border=\"1\" class=\"dataframe\">\n",
       "  <thead>\n",
       "    <tr style=\"text-align: right;\">\n",
       "      <th></th>\n",
       "      <th>mql_id</th>\n",
       "      <th>mql_id.1</th>\n",
       "      <th>seller_id</th>\n",
       "      <th>first_contact_date</th>\n",
       "      <th>won_date</th>\n",
       "      <th>origin</th>\n",
       "      <th>business_segment</th>\n",
       "      <th>lead_type</th>\n",
       "      <th>lead_behaviour_profile</th>\n",
       "      <th>business_type</th>\n",
       "      <th>declared_monthly_revenue</th>\n",
       "      <th>Price</th>\n",
       "      <th>City</th>\n",
       "      <th>State</th>\n",
       "    </tr>\n",
       "  </thead>\n",
       "  <tbody>\n",
       "    <tr>\n",
       "      <th>0</th>\n",
       "      <td>dac32acd4db4c29c230538b72f8dd87d</td>\n",
       "      <td>5420aad7fec3549a85876ba1c529bd84</td>\n",
       "      <td>2c43fb513632d29b3b58df74816f1b06</td>\n",
       "      <td>01-02-18</td>\n",
       "      <td>26-02-18 19:58</td>\n",
       "      <td>social</td>\n",
       "      <td>pet</td>\n",
       "      <td>online_medium</td>\n",
       "      <td>cat</td>\n",
       "      <td>reseller</td>\n",
       "      <td>0</td>\n",
       "      <td>72.19</td>\n",
       "      <td>campinas</td>\n",
       "      <td>SP</td>\n",
       "    </tr>\n",
       "    <tr>\n",
       "      <th>1</th>\n",
       "      <td>8c18d1de7f67e60dbd64e3c07d7e9d5d</td>\n",
       "      <td>a555fb36b9368110ede0f043dfc3b9a0</td>\n",
       "      <td>bbb7d7893a450660432ea6652310ebb7</td>\n",
       "      <td>20-10-17</td>\n",
       "      <td>08-05-18 20:17</td>\n",
       "      <td>paid_search</td>\n",
       "      <td>car_accessories</td>\n",
       "      <td>industry</td>\n",
       "      <td>eagle</td>\n",
       "      <td>reseller</td>\n",
       "      <td>0</td>\n",
       "      <td>259.83</td>\n",
       "      <td>mogi guacu</td>\n",
       "      <td>SP</td>\n",
       "    </tr>\n",
       "    <tr>\n",
       "      <th>2</th>\n",
       "      <td>b4bc852d233dfefc5131f593b538befa</td>\n",
       "      <td>327174d3648a2d047e8940d7d15204ca</td>\n",
       "      <td>612170e34b97004b3ba37eae81836b4c</td>\n",
       "      <td>22-03-18</td>\n",
       "      <td>05-06-18 17:27</td>\n",
       "      <td>organic_search</td>\n",
       "      <td>home_appliances</td>\n",
       "      <td>online_big</td>\n",
       "      <td>cat</td>\n",
       "      <td>reseller</td>\n",
       "      <td>0</td>\n",
       "      <td>216.87</td>\n",
       "      <td>rio de janeiro</td>\n",
       "      <td>RJ</td>\n",
       "    </tr>\n",
       "    <tr>\n",
       "      <th>3</th>\n",
       "      <td>6be030b81c75970747525b843c1ef4f8</td>\n",
       "      <td>f5fee8f7da74f4887f5bcae2bafb6dd6</td>\n",
       "      <td>21e1781e36faf92725dde4730a88ca0f</td>\n",
       "      <td>22-01-18</td>\n",
       "      <td>17-01-18 13:51</td>\n",
       "      <td>email</td>\n",
       "      <td>food_drink</td>\n",
       "      <td>online_small</td>\n",
       "      <td>NaN</td>\n",
       "      <td>reseller</td>\n",
       "      <td>0</td>\n",
       "      <td>25.78</td>\n",
       "      <td>sao paulo</td>\n",
       "      <td>SP</td>\n",
       "    </tr>\n",
       "    <tr>\n",
       "      <th>4</th>\n",
       "      <td>5420aad7fec3549a85876ba1c529bd84</td>\n",
       "      <td>ffe640179b554e295c167a2f6be528e0</td>\n",
       "      <td>ed8cb7b190ceb6067227478e48cf8dde</td>\n",
       "      <td>21-02-18</td>\n",
       "      <td>03-07-18 20:17</td>\n",
       "      <td>organic_search</td>\n",
       "      <td>home_appliances</td>\n",
       "      <td>industry</td>\n",
       "      <td>wolf</td>\n",
       "      <td>manufacturer</td>\n",
       "      <td>0</td>\n",
       "      <td>218.04</td>\n",
       "      <td>braganca paulista</td>\n",
       "      <td>SP</td>\n",
       "    </tr>\n",
       "  </tbody>\n",
       "</table>\n",
       "</div>"
      ],
      "text/plain": [
       "                             mql_id                          mql_id.1  \\\n",
       "0  dac32acd4db4c29c230538b72f8dd87d  5420aad7fec3549a85876ba1c529bd84   \n",
       "1  8c18d1de7f67e60dbd64e3c07d7e9d5d  a555fb36b9368110ede0f043dfc3b9a0   \n",
       "2  b4bc852d233dfefc5131f593b538befa  327174d3648a2d047e8940d7d15204ca   \n",
       "3  6be030b81c75970747525b843c1ef4f8  f5fee8f7da74f4887f5bcae2bafb6dd6   \n",
       "4  5420aad7fec3549a85876ba1c529bd84  ffe640179b554e295c167a2f6be528e0   \n",
       "\n",
       "                          seller_id first_contact_date        won_date  \\\n",
       "0  2c43fb513632d29b3b58df74816f1b06  01-02-18           26-02-18 19:58   \n",
       "1  bbb7d7893a450660432ea6652310ebb7  20-10-17           08-05-18 20:17   \n",
       "2  612170e34b97004b3ba37eae81836b4c  22-03-18           05-06-18 17:27   \n",
       "3  21e1781e36faf92725dde4730a88ca0f  22-01-18           17-01-18 13:51   \n",
       "4  ed8cb7b190ceb6067227478e48cf8dde  21-02-18           03-07-18 20:17   \n",
       "\n",
       "           origin business_segment      lead_type lead_behaviour_profile  \\\n",
       "0  social          pet              online_medium  cat                     \n",
       "1  paid_search     car_accessories  industry       eagle                   \n",
       "2  organic_search  home_appliances  online_big     cat                     \n",
       "3  email           food_drink       online_small   NaN                     \n",
       "4  organic_search  home_appliances  industry       wolf                    \n",
       "\n",
       "  business_type  declared_monthly_revenue   Price               City State  \n",
       "0  reseller      0                         72.19   campinas           SP    \n",
       "1  reseller      0                         259.83  mogi guacu         SP    \n",
       "2  reseller      0                         216.87  rio de janeiro     RJ    \n",
       "3  reseller      0                         25.78   sao paulo          SP    \n",
       "4  manufacturer  0                         218.04  braganca paulista  SP    "
      ]
     },
     "execution_count": 20,
     "metadata": {},
     "output_type": "execute_result"
    }
   ],
   "source": [
    "market2.head()"
   ]
  },
  {
   "cell_type": "code",
   "execution_count": 21,
   "metadata": {},
   "outputs": [
    {
     "name": "stdout",
     "output_type": "stream",
     "text": [
      "<class 'pandas.core.frame.DataFrame'>\n",
      "RangeIndex: 842 entries, 0 to 841\n",
      "Data columns (total 14 columns):\n",
      "mql_id                      842 non-null object\n",
      "mql_id.1                    842 non-null object\n",
      "seller_id                   842 non-null object\n",
      "first_contact_date          842 non-null object\n",
      "won_date                    842 non-null object\n",
      "origin                      830 non-null object\n",
      "business_segment            841 non-null object\n",
      "lead_type                   836 non-null object\n",
      "lead_behaviour_profile      665 non-null object\n",
      "business_type               832 non-null object\n",
      "declared_monthly_revenue    842 non-null int64\n",
      "Price                       842 non-null float64\n",
      "City                        842 non-null object\n",
      "State                       842 non-null object\n",
      "dtypes: float64(1), int64(1), object(12)\n",
      "memory usage: 92.2+ KB\n"
     ]
    }
   ],
   "source": [
    "market.info()"
   ]
  },
  {
   "cell_type": "markdown",
   "metadata": {},
   "source": [
    "## Standardization of Data\n",
    "\n",
    "By removing or filling missing values we can standardized the data."
   ]
  },
  {
   "cell_type": "code",
   "execution_count": 23,
   "metadata": {},
   "outputs": [
    {
     "data": {
      "text/plain": [
       "206"
      ]
     },
     "execution_count": 23,
     "metadata": {},
     "output_type": "execute_result"
    }
   ],
   "source": [
    "market.isnull().sum().sum()"
   ]
  },
  {
   "cell_type": "code",
   "execution_count": 20,
   "metadata": {},
   "outputs": [],
   "source": [
    "missing_values= ['?']\n",
    "market2= pd.read_csv(\"olist_marketing_qualified_leads_dataset.csv\", sep=\",\", na_values = missing_values)"
   ]
  },
  {
   "cell_type": "code",
   "execution_count": 27,
   "metadata": {},
   "outputs": [],
   "source": [
    "market2['origin'] = market2['origin'].fillna(market2['origin'].mode()[0])"
   ]
  },
  {
   "cell_type": "code",
   "execution_count": 28,
   "metadata": {},
   "outputs": [],
   "source": [
    "market2['business_segment'] = market2['business_segment'].fillna(market2['business_segment'].mode()[0])"
   ]
  },
  {
   "cell_type": "code",
   "execution_count": 32,
   "metadata": {},
   "outputs": [],
   "source": [
    "market2['lead_type'] = market2['lead_type'].fillna(market2['lead_type'].mode()[0])"
   ]
  },
  {
   "cell_type": "code",
   "execution_count": 33,
   "metadata": {},
   "outputs": [],
   "source": [
    "market2['lead_behaviour_profile'] = market2['lead_behaviour_profile'].fillna(market2['lead_behaviour_profile'].mode()[0])"
   ]
  },
  {
   "cell_type": "code",
   "execution_count": 34,
   "metadata": {},
   "outputs": [],
   "source": [
    "market2['business_type'] = market2['business_type'].fillna(market2['business_type'].mode()[0])"
   ]
  },
  {
   "cell_type": "code",
   "execution_count": 35,
   "metadata": {},
   "outputs": [
    {
     "data": {
      "text/plain": [
       "mql_id                      0\n",
       "mql_id.1                    0\n",
       "seller_id                   0\n",
       "first_contact_date          0\n",
       "won_date                    0\n",
       "origin                      0\n",
       "business_segment            0\n",
       "lead_type                   0\n",
       "lead_behaviour_profile      0\n",
       "business_type               0\n",
       "declared_monthly_revenue    0\n",
       "Price                       0\n",
       "City                        0\n",
       "State                       0\n",
       "dtype: int64"
      ]
     },
     "execution_count": 35,
     "metadata": {},
     "output_type": "execute_result"
    }
   ],
   "source": [
    "market2.isnull().sum()"
   ]
  },
  {
   "cell_type": "markdown",
   "metadata": {},
   "source": [
    "### \n",
    "total 206 missing values in the whole data set.\n",
    "\n",
    "For filling the missing values, here we will use mode of that same columns. Because all the missing values columns are categoricals."
   ]
  },
  {
   "cell_type": "code",
   "execution_count": 24,
   "metadata": {},
   "outputs": [],
   "source": [
    "market2=market2.drop([\"mql_id\",\"mql_id.1\",\"seller_id\"],axis=1)"
   ]
  },
  {
   "cell_type": "code",
   "execution_count": 25,
   "metadata": {},
   "outputs": [
    {
     "data": {
      "text/plain": [
       "Index(['first_contact_date', 'won_date', 'origin', 'business_segment',\n",
       "       'lead_type', 'lead_behaviour_profile', 'business_type',\n",
       "       'declared_monthly_revenue', 'Price', 'City', 'State'],\n",
       "      dtype='object')"
      ]
     },
     "execution_count": 25,
     "metadata": {},
     "output_type": "execute_result"
    }
   ],
   "source": [
    "market2.columns"
   ]
  },
  {
   "cell_type": "code",
   "execution_count": 26,
   "metadata": {},
   "outputs": [],
   "source": [
    "import datetime"
   ]
  },
  {
   "cell_type": "code",
   "execution_count": 44,
   "metadata": {},
   "outputs": [],
   "source": [
    "market2['MQL_year'] = pd.DatetimeIndex(market2['first_contact_date']).year\n"
   ]
  },
  {
   "cell_type": "code",
   "execution_count": 43,
   "metadata": {},
   "outputs": [],
   "source": [
    "market2['SQL_year'] = pd.DatetimeIndex(market2['won_date']).year\n"
   ]
  },
  {
   "cell_type": "code",
   "execution_count": 31,
   "metadata": {},
   "outputs": [
    {
     "data": {
      "text/plain": [
       "2018    612\n",
       "2017    230\n",
       "Name: MQL_year, dtype: int64"
      ]
     },
     "execution_count": 31,
     "metadata": {},
     "output_type": "execute_result"
    }
   ],
   "source": [
    "market2['MQL_year'].value_counts()"
   ]
  },
  {
   "cell_type": "code",
   "execution_count": 32,
   "metadata": {},
   "outputs": [
    {
     "data": {
      "text/plain": [
       "2018    839\n",
       "2017    3  \n",
       "Name: SQL_year, dtype: int64"
      ]
     },
     "execution_count": 32,
     "metadata": {},
     "output_type": "execute_result"
    }
   ],
   "source": [
    "market2['SQL_year'].value_counts()"
   ]
  },
  {
   "cell_type": "code",
   "execution_count": 36,
   "metadata": {},
   "outputs": [
    {
     "data": {
      "image/png": "[encoded data removed]",
      "text/plain": [
       "<Figure size 576x576 with 2 Axes>"
      ]
     },
     "metadata": {
      "needs_background": "light"
     },
     "output_type": "display_data"
    }
   ],
   "source": [
    "fig = plt.figure(figsize=(8,8))\n",
    "axl = fig.add_subplot(111)\n",
    "plt.xlabel('SQL_year')\n",
    "plt.hist(market2['SQL_year'])\n",
    "\n",
    "ax2 = fig.add_subplot(121)\n",
    "plt.xlabel('MQL_year')\n",
    "plt.hist(market2['MQL_year'])\n",
    " \n",
    "#add an overall title\n",
    "\n",
    "plt.suptitle('Two subplots', size = 20)\n",
    "\n",
    "# adjust the spacing between plots\n",
    "\n",
    "plt.tight_layout(pad=10)\n",
    "\n",
    "#show plot\n",
    "\n",
    "plt.show()"
   ]
  },
  {
   "cell_type": "code",
   "execution_count": 42,
   "metadata": {},
   "outputs": [],
   "source": [
    "market2['SQL_time'] = pd.DatetimeIndex(market2['won_date']).time"
   ]
  },
  {
   "cell_type": "code",
   "execution_count": 41,
   "metadata": {},
   "outputs": [
    {
     "data": {
      "text/plain": [
       "<matplotlib.axes._subplots.AxesSubplot at 0x1e1cc6e46a0>"
      ]
     },
     "execution_count": 41,
     "metadata": {},
     "output_type": "execute_result"
    },
    {
     "data": {
      "image/png": "[encoded data removed]",
      "text/plain": [
       "<Figure size 1152x576 with 1 Axes>"
      ]
     },
     "metadata": {
      "needs_background": "light"
     },
     "output_type": "display_data"
    }
   ],
   "source": [
    "plt.figure(figsize=(16,8))\n",
    "sns.lineplot(x='SQL_time',y='SQL_year' ,data=market2,estimator=None)"
   ]
  },
  {
   "cell_type": "markdown",
   "metadata": {},
   "source": [
    "So from the above graph we can conclude that most of the conversion or SQL is happened in the year 2018.\n",
    "\n",
    "The frequent timing of the purchases is mid night, evening and night through the time variable.\n"
   ]
  },
  {
   "cell_type": "code",
   "execution_count": 59,
   "metadata": {},
   "outputs": [
    {
     "data": {
      "text/plain": [
       "reseller        587\n",
       "manufacturer    242\n",
       "other           3  \n",
       "Name: business_type, dtype: int64"
      ]
     },
     "execution_count": 59,
     "metadata": {},
     "output_type": "execute_result"
    }
   ],
   "source": [
    "market2['business_type'].value_counts()"
   ]
  },
  {
   "cell_type": "code",
   "execution_count": 60,
   "metadata": {},
   "outputs": [
    {
     "data": {
      "text/plain": [
       "<matplotlib.axes._subplots.AxesSubplot at 0x1e1ccf36748>"
      ]
     },
     "execution_count": 60,
     "metadata": {},
     "output_type": "execute_result"
    },
    {
     "data": {
      "image/png": "[encoded data removed]",
      "text/plain": [
       "<Figure size 432x288 with 1 Axes>"
      ]
     },
     "metadata": {
      "needs_background": "light"
     },
     "output_type": "display_data"
    }
   ],
   "source": [
    "sns.countplot(x='business_type',data=market2)"
   ]
  },
  {
   "cell_type": "code",
   "execution_count": 62,
   "metadata": {},
   "outputs": [
    {
     "data": {
      "text/plain": [
       "home_decor                         105\n",
       "health_beauty                      93 \n",
       "car_accessories                    77 \n",
       "household_utilities                71 \n",
       "construction_tools_house_garden    69 \n",
       "audio_video_electronics            64 \n",
       "computers                          34 \n",
       "pet                                30 \n",
       "food_supplement                    28 \n",
       "food_drink                         26 \n",
       "sports_leisure                     25 \n",
       "bags_backpacks                     22 \n",
       "bed_bath_table                     22 \n",
       "toys                               20 \n",
       "fashion_accessories                19 \n",
       "home_office_furniture              14 \n",
       "phone_mobile                       13 \n",
       "stationery                         13 \n",
       "handcrafted                        12 \n",
       "small_appliances                   12 \n",
       "baby                               10 \n",
       "music_instruments                  9  \n",
       "books                              9  \n",
       "watches                            8  \n",
       "jewerly                            8  \n",
       "home_appliances                    7  \n",
       "gifts                              5  \n",
       "party                              5  \n",
       "air_conditioning                   3  \n",
       "other                              3  \n",
       "games_consoles                     2  \n",
       "perfume                            2  \n",
       "religious                          1  \n",
       "Name: business_segment, dtype: int64"
      ]
     },
     "execution_count": 62,
     "metadata": {},
     "output_type": "execute_result"
    }
   ],
   "source": [
    "market2['business_segment'].value_counts()"
   ]
  },
  {
   "cell_type": "markdown",
   "metadata": {},
   "source": [
    "In the business segementation , Home decoration is at top of the list and sellers are resellers more.In the comparision of the \n",
    "manufacturers and industry."
   ]
  },
  {
   "cell_type": "code",
   "execution_count": 63,
   "metadata": {},
   "outputs": [
    {
     "data": {
      "text/plain": [
       "<matplotlib.axes._subplots.AxesSubplot at 0x1e1cbbbba90>"
      ]
     },
     "execution_count": 63,
     "metadata": {},
     "output_type": "execute_result"
    },
    {
     "data": {
      "image/png": "[encoded data removed]",
      "text/plain": [
       "<Figure size 1152x576 with 1 Axes>"
      ]
     },
     "metadata": {
      "needs_background": "light"
     },
     "output_type": "display_data"
    }
   ],
   "source": [
    "plt.figure(figsize=(16,8))\n",
    "sns.lineplot(x='lead_type',y='lead_behaviour_profile', data=market2,estimator=None)"
   ]
  },
  {
   "cell_type": "markdown",
   "metadata": {},
   "source": [
    "Here we have two variables lead type and lead behavior. In this lead behavior profile measuring the speed of lead generation \n",
    "to conversions.\n",
    "in this case, online_medium lead type increases more rapidly. \n",
    "\n",
    "Second one is online_ small. Which representing that they are targeting the right audeince on the digital platform.\n",
    "there is lots of assumptions like animals name representing speed of the conversion or from MQL to SQL.\n",
    "\n",
    "If customer are entering more from online medium and small platform to inside the funnel.It means on the small platform they are \n",
    "selling more customized products.\n"
   ]
  },
  {
   "cell_type": "code",
   "execution_count": 77,
   "metadata": {},
   "outputs": [
    {
     "data": {
      "text/plain": [
       "<matplotlib.axes._subplots.AxesSubplot at 0x1e1cd539320>"
      ]
     },
     "execution_count": 77,
     "metadata": {},
     "output_type": "execute_result"
    },
    {
     "data": {
      "image/png": "[encoded data removed]",
      "text/plain": [
       "<Figure size 432x288 with 1 Axes>"
      ]
     },
     "metadata": {
      "needs_background": "light"
     },
     "output_type": "display_data"
    }
   ],
   "source": [
    "sns.countplot(x='State',data=market2)"
   ]
  },
  {
   "cell_type": "code",
   "execution_count": 78,
   "metadata": {},
   "outputs": [
    {
     "data": {
      "text/plain": [
       "Index(['first_contact_date', 'won_date', 'origin', 'business_segment',\n",
       "       'lead_type', 'lead_behaviour_profile', 'business_type',\n",
       "       'declared_monthly_revenue', 'Price', 'City', 'State', 'MQL_year',\n",
       "       'SQL_year', 'SQL_time', 'Business_type', 'Business_segment'],\n",
       "      dtype='object')"
      ]
     },
     "execution_count": 78,
     "metadata": {},
     "output_type": "execute_result"
    }
   ],
   "source": [
    "market2.columns"
   ]
  },
  {
   "cell_type": "code",
   "execution_count": 79,
   "metadata": {},
   "outputs": [],
   "source": [
    "market2['revenue_group']=['<0'if x <0\n",
    "else '1000-100000' if x <100000\n",
    "else '150000-500000' if x <500000\n",
    "else '800000=<' for x in market2['declared_monthly_revenue']]"
   ]
  },
  {
   "cell_type": "code",
   "execution_count": 81,
   "metadata": {},
   "outputs": [
    {
     "data": {
      "text/plain": [
       "<matplotlib.axes._subplots.AxesSubplot at 0x1e1cf7cf860>"
      ]
     },
     "execution_count": 81,
     "metadata": {},
     "output_type": "execute_result"
    },
    {
     "data": {
      "image/png": "[encoded data removed]",
      "text/plain": [
       "<Figure size 432x288 with 1 Axes>"
      ]
     },
     "metadata": {
      "needs_background": "light"
     },
     "output_type": "display_data"
    }
   ],
   "source": [
    "sns.countplot(x='revenue_group',data=market2)"
   ]
  },
  {
   "cell_type": "markdown",
   "metadata": {},
   "source": [
    "So most of the reseller monthly revenue under the 1000 to 100000 category."
   ]
  },
  {
   "cell_type": "code",
   "execution_count": null,
   "metadata": {},
   "outputs": [],
   "source": []
  }
 ],
 "metadata": {
  "kernelspec": {
   "display_name": "Python 3",
   "language": "python",
   "name": "python3"
  },
  "language_info": {
   "codemirror_mode": {
    "name": "ipython",
    "version": 3
   },
   "file_extension": ".py",
   "mimetype": "text/x-python",
   "name": "python",
   "nbconvert_exporter": "python",
   "pygments_lexer": "ipython3",
   "version": "3.7.3"
  }
 },
 "nbformat": 4,
 "nbformat_minor": 2
}
